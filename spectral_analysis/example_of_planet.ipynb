{
 "cells": [
  {
   "cell_type": "markdown",
   "metadata": {},
   "source": [
    "# Simple planet Finder"
   ]
  },
  {
   "cell_type": "code",
   "execution_count": 9,
   "metadata": {},
   "outputs": [],
   "source": [
    "from lightkurve import search_targetpixelfile\n",
    "from lightkurve import TessTargetPixelFile\n",
    "import lightkurve as lk\n",
    "import numpy as np\n",
    "# import matplotlib.pyplot as plt\n",
    "# from matplotlib.pyplot import plot"
   ]
  },
  {
   "cell_type": "code",
   "execution_count": 10,
   "metadata": {},
   "outputs": [
    {
     "data": {
      "text/plain": [
       "<Axes: title={'center': 'Target ID: 6922244, Cadence: 11958'}, xlabel='Pixel Column Number', ylabel='Pixel Row Number'>"
      ]
     },
     "execution_count": 10,
     "metadata": {},
     "output_type": "execute_result"
    }
   ],
   "source": [
    "pixel_file = search_targetpixelfile('KIC 6922244', author='Kepler', cadence='long', quarter=4).download()\n",
    "pixel_file.plot(frame=42)"
   ]
  },
  {
   "cell_type": "markdown",
   "metadata": {},
   "source": [
    "## This is a example of planet"
   ]
  },
  {
   "cell_type": "code",
   "execution_count": 11,
   "metadata": {},
   "outputs": [
    {
     "name": "stdout",
     "output_type": "stream",
     "text": [
      "Period:  3.5225225225225225 d\n",
      "T0:  353.60632485035285\n",
      "Duration:  0.1 d\n"
     ]
    }
   ],
   "source": [
    "lc = pixel_file.to_lightcurve(aperture_mask=pixel_file.pipeline_mask)\n",
    "lc.plot()\n",
    "\n",
    "flat_lc = lc.flatten()\n",
    "flat_lc.plot()\n",
    "\n",
    "folded_lc = flat_lc.fold(period=3.5225)\n",
    "folded_lc.plot()\n",
    "\n",
    "period = np.linspace(1, 5, 1000)\n",
    "\n",
    "bls = lc.to_periodogram(method=\"bls\", period=period, frequency_factor=500)\n",
    "bls.plot()\n",
    "\n",
    "planet_x_period = bls.period_at_max_power\n",
    "\n",
    "planet_x_t0 = bls.transit_time_at_max_power\n",
    "planet_x_duration = bls.duration_at_max_power\n",
    "\n",
    "ax = lc.fold(period=planet_x_period, epoch_time = planet_x_t0).scatter()\n",
    "ax.set_xlim(-2, 2)\n",
    "\n",
    "print(\"Period: \", planet_x_period)\n",
    "print(\"T0: \", planet_x_t0)\n",
    "print(\"Duration: \", planet_x_duration)"
   ]
  },
  {
   "cell_type": "code",
   "execution_count": null,
   "metadata": {},
   "outputs": [],
   "source": []
  }
 ],
 "metadata": {
  "kernelspec": {
   "display_name": "Python 3 (ipykernel)",
   "language": "python",
   "name": "python3"
  },
  "language_info": {
   "codemirror_mode": {
    "name": "ipython",
    "version": 3
   },
   "file_extension": ".py",
   "mimetype": "text/x-python",
   "name": "python",
   "nbconvert_exporter": "python",
   "pygments_lexer": "ipython3",
   "version": "3.10.7"
  }
 },
 "nbformat": 4,
 "nbformat_minor": 2
}
